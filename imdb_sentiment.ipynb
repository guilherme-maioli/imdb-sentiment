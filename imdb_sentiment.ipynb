{
 "cells": [
  {
   "cell_type": "code",
   "execution_count": 1,
   "metadata": {},
   "outputs": [],
   "source": [
    "import pandas as pd"
   ]
  },
  {
   "cell_type": "code",
   "execution_count": 8,
   "metadata": {},
   "outputs": [],
   "source": [
    "df = pd.read_csv('https://s3.amazonaws.com/sergio-prates-blog/imdb-reviews-pt-br.csv').sample(1000, random_state=42)\n",
    "#df = pd.read_csv('imdb-reviews-pt-br.csv').sample(1000, random_state=42)"
   ]
  },
  {
   "cell_type": "code",
   "execution_count": 11,
   "metadata": {},
   "outputs": [
    {
     "data": {
      "text/html": [
       "<div>\n",
       "<style scoped>\n",
       "    .dataframe tbody tr th:only-of-type {\n",
       "        vertical-align: middle;\n",
       "    }\n",
       "\n",
       "    .dataframe tbody tr th {\n",
       "        vertical-align: top;\n",
       "    }\n",
       "\n",
       "    .dataframe thead th {\n",
       "        text-align: right;\n",
       "    }\n",
       "</style>\n",
       "<table border=\"1\" class=\"dataframe\">\n",
       "  <thead>\n",
       "    <tr style=\"text-align: right;\">\n",
       "      <th></th>\n",
       "      <th>id</th>\n",
       "      <th>text_en</th>\n",
       "      <th>text_pt</th>\n",
       "      <th>sentiment</th>\n",
       "    </tr>\n",
       "  </thead>\n",
       "  <tbody>\n",
       "    <tr>\n",
       "      <th>12532</th>\n",
       "      <td>12534</td>\n",
       "      <td>This was unusual: a modern-day film which was ...</td>\n",
       "      <td>Isso era incomum: um filme moderno que era ult...</td>\n",
       "      <td>pos</td>\n",
       "    </tr>\n",
       "    <tr>\n",
       "      <th>35445</th>\n",
       "      <td>35447</td>\n",
       "      <td>Some of my old friends suggested me to watch t...</td>\n",
       "      <td>Alguns dos meus velhos amigos sugeriram que eu...</td>\n",
       "      <td>neg</td>\n",
       "    </tr>\n",
       "    <tr>\n",
       "      <th>20279</th>\n",
       "      <td>20281</td>\n",
       "      <td>What a pleasure. This is really a parody. Only...</td>\n",
       "      <td>Que prazer. Isto é realmente uma paródia. Some...</td>\n",
       "      <td>pos</td>\n",
       "    </tr>\n",
       "    <tr>\n",
       "      <th>2969</th>\n",
       "      <td>2971</td>\n",
       "      <td>There are about ten minutes about half way thr...</td>\n",
       "      <td>Há cerca de dez minutos a meio da Strangeland,...</td>\n",
       "      <td>neg</td>\n",
       "    </tr>\n",
       "    <tr>\n",
       "      <th>45161</th>\n",
       "      <td>45163</td>\n",
       "      <td>Othello, the classic Shakespearen story of lov...</td>\n",
       "      <td>Otelo, a clássica história de Shakespearen sob...</td>\n",
       "      <td>pos</td>\n",
       "    </tr>\n",
       "  </tbody>\n",
       "</table>\n",
       "</div>"
      ],
      "text/plain": [
       "          id                                            text_en  \\\n",
       "12532  12534  This was unusual: a modern-day film which was ...   \n",
       "35445  35447  Some of my old friends suggested me to watch t...   \n",
       "20279  20281  What a pleasure. This is really a parody. Only...   \n",
       "2969    2971  There are about ten minutes about half way thr...   \n",
       "45161  45163  Othello, the classic Shakespearen story of lov...   \n",
       "\n",
       "                                                 text_pt sentiment  \n",
       "12532  Isso era incomum: um filme moderno que era ult...       pos  \n",
       "35445  Alguns dos meus velhos amigos sugeriram que eu...       neg  \n",
       "20279  Que prazer. Isto é realmente uma paródia. Some...       pos  \n",
       "2969   Há cerca de dez minutos a meio da Strangeland,...       neg  \n",
       "45161  Otelo, a clássica história de Shakespearen sob...       pos  "
      ]
     },
     "execution_count": 11,
     "metadata": {},
     "output_type": "execute_result"
    }
   ],
   "source": [
    "df.sentiment.value_counts()\n",
    "df.head()"
   ]
  },
  {
   "cell_type": "code",
   "execution_count": 12,
   "metadata": {},
   "outputs": [
    {
     "data": {
      "text/html": [
       "<div>\n",
       "<style scoped>\n",
       "    .dataframe tbody tr th:only-of-type {\n",
       "        vertical-align: middle;\n",
       "    }\n",
       "\n",
       "    .dataframe tbody tr th {\n",
       "        vertical-align: top;\n",
       "    }\n",
       "\n",
       "    .dataframe thead th {\n",
       "        text-align: right;\n",
       "    }\n",
       "</style>\n",
       "<table border=\"1\" class=\"dataframe\">\n",
       "  <thead>\n",
       "    <tr style=\"text-align: right;\">\n",
       "      <th></th>\n",
       "      <th>id</th>\n",
       "      <th>text_en</th>\n",
       "      <th>text_pt</th>\n",
       "      <th>sentiment</th>\n",
       "    </tr>\n",
       "  </thead>\n",
       "  <tbody>\n",
       "    <tr>\n",
       "      <th>12532</th>\n",
       "      <td>12534</td>\n",
       "      <td>This was unusual: a modern-day film which was ...</td>\n",
       "      <td>Isso era incomum: um filme moderno que era ult...</td>\n",
       "      <td>1</td>\n",
       "    </tr>\n",
       "    <tr>\n",
       "      <th>35445</th>\n",
       "      <td>35447</td>\n",
       "      <td>Some of my old friends suggested me to watch t...</td>\n",
       "      <td>Alguns dos meus velhos amigos sugeriram que eu...</td>\n",
       "      <td>0</td>\n",
       "    </tr>\n",
       "    <tr>\n",
       "      <th>20279</th>\n",
       "      <td>20281</td>\n",
       "      <td>What a pleasure. This is really a parody. Only...</td>\n",
       "      <td>Que prazer. Isto é realmente uma paródia. Some...</td>\n",
       "      <td>1</td>\n",
       "    </tr>\n",
       "    <tr>\n",
       "      <th>2969</th>\n",
       "      <td>2971</td>\n",
       "      <td>There are about ten minutes about half way thr...</td>\n",
       "      <td>Há cerca de dez minutos a meio da Strangeland,...</td>\n",
       "      <td>0</td>\n",
       "    </tr>\n",
       "    <tr>\n",
       "      <th>45161</th>\n",
       "      <td>45163</td>\n",
       "      <td>Othello, the classic Shakespearen story of lov...</td>\n",
       "      <td>Otelo, a clássica história de Shakespearen sob...</td>\n",
       "      <td>1</td>\n",
       "    </tr>\n",
       "  </tbody>\n",
       "</table>\n",
       "</div>"
      ],
      "text/plain": [
       "          id                                            text_en  \\\n",
       "12532  12534  This was unusual: a modern-day film which was ...   \n",
       "35445  35447  Some of my old friends suggested me to watch t...   \n",
       "20279  20281  What a pleasure. This is really a parody. Only...   \n",
       "2969    2971  There are about ten minutes about half way thr...   \n",
       "45161  45163  Othello, the classic Shakespearen story of lov...   \n",
       "\n",
       "                                                 text_pt  sentiment  \n",
       "12532  Isso era incomum: um filme moderno que era ult...          1  \n",
       "35445  Alguns dos meus velhos amigos sugeriram que eu...          0  \n",
       "20279  Que prazer. Isto é realmente uma paródia. Some...          1  \n",
       "2969   Há cerca de dez minutos a meio da Strangeland,...          0  \n",
       "45161  Otelo, a clássica história de Shakespearen sob...          1  "
      ]
     },
     "execution_count": 12,
     "metadata": {},
     "output_type": "execute_result"
    }
   ],
   "source": [
    "df.sentiment = df['sentiment'].map({'pos': 1, 'neg': 0})\n",
    "df.head()"
   ]
  },
  {
   "cell_type": "code",
   "execution_count": 13,
   "metadata": {},
   "outputs": [],
   "source": [
    "from sklearn.feature_extraction.text import CountVectorizer"
   ]
  },
  {
   "cell_type": "markdown",
   "metadata": {},
   "source": [
    "Este código tem a função de criar um vetorizador com a representação numérica das palavras do nosso dataset, \n",
    "a variável “vect” é responsável por armazenar esse de-para das palavras para a representação numérica e a variável text_vect \n",
    "armazena uma matriz que representa nossos dados de avaliações do imdb já vetorizados."
   ]
  },
  {
   "cell_type": "code",
   "execution_count": 19,
   "metadata": {},
   "outputs": [],
   "source": [
    "vect = CountVectorizer(ngram_range=(1, 1))\n",
    "vect.fit(df.text_pt)\n",
    "text_vect = vect.transform(df.text_pt)"
   ]
  },
  {
   "cell_type": "markdown",
   "metadata": {},
   "source": [
    "No código acima, importamos a função “train_test_split” do scikit-learn para separar os dados em treino e teste, veja que passamos a variável criada anteriormente “text_vect” que se trata dos nossos dados vetorizados, passamos a coluna “sentimento” que é o que queremos classificar e a variável “test_size” com o valor 0.3 que significa que queremos 30% dos dados como testes."
   ]
  },
  {
   "cell_type": "code",
   "execution_count": 20,
   "metadata": {},
   "outputs": [],
   "source": [
    "from sklearn.model_selection import train_test_split\n",
    "\n",
    "X_train,X_test,y_train,y_test = train_test_split(\n",
    "    text_vect, \n",
    "    df.sentiment,\n",
    "    test_size = 0.3, \n",
    "    random_state = 42\n",
    ")"
   ]
  },
  {
   "cell_type": "markdown",
   "metadata": {},
   "source": [
    "No código abaixo, importamos a classe LogisticRegression do scikit-learn para realizar o ajuste do modelo, instanciamos na variável clf e logo em seguida chamamos o método “fit” que é onde o treinamento do modelo acontece, perceba que passamos o X_train que são nossos dados de treino que utilizaremos para prever o y_train que são os sentimentos positivo e negativo."
   ]
  },
  {
   "cell_type": "code",
   "execution_count": 21,
   "metadata": {},
   "outputs": [],
   "source": [
    "from sklearn.linear_model import LogisticRegression\n",
    "clf = LogisticRegression(random_state=0, solver='newton-cg')\n",
    "clf = clf.fit(X_train, y_train)"
   ]
  },
  {
   "cell_type": "markdown",
   "metadata": {},
   "source": [
    "Após rodar esse comando, podemos chamar o método “predict” para predizer nossos dados de teste e verificar a partir da métrica f1_score qual a porcentagem de acerto do nosso modelo:"
   ]
  },
  {
   "cell_type": "code",
   "execution_count": 22,
   "metadata": {},
   "outputs": [
    {
     "name": "stdout",
     "output_type": "stream",
     "text": [
      "0.7366403096119841\n"
     ]
    }
   ],
   "source": [
    "from sklearn.metrics import f1_score\n",
    "y_prediction = clf.predict(X_test)\n",
    "\n",
    "f1 = f1_score(y_prediction, y_test, average='weighted')\n",
    "\n",
    "print(f1)"
   ]
  },
  {
   "cell_type": "code",
   "execution_count": null,
   "metadata": {},
   "outputs": [],
   "source": []
  }
 ],
 "metadata": {
  "kernelspec": {
   "display_name": "Python 3",
   "language": "python",
   "name": "python3"
  },
  "language_info": {
   "codemirror_mode": {
    "name": "ipython",
    "version": 3
   },
   "file_extension": ".py",
   "mimetype": "text/x-python",
   "name": "python",
   "nbconvert_exporter": "python",
   "pygments_lexer": "ipython3",
   "version": "3.6.5"
  }
 },
 "nbformat": 4,
 "nbformat_minor": 2
}
